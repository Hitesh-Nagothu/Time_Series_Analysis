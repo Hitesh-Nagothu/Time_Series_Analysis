{
 "cells": [
  {
   "cell_type": "code",
   "execution_count": 41,
   "metadata": {},
   "outputs": [],
   "source": [
    "import numpy as np\n",
    "import matplotlib.pyplot as plt\n",
    "import pandas as pd\n",
    "\n",
    "from sklearn.preprocessing import MinMaxScaler\n",
    "\n",
    "from keras.models import Sequential\n",
    "from keras.layers import Dense, LSTM, Dropout"
   ]
  },
  {
   "cell_type": "code",
   "execution_count": 3,
   "metadata": {},
   "outputs": [],
   "source": [
    "apple_complete= pd.read_csv(r'C:\\Users\\hites\\OneDrive\\Desktop\\Datasets\\AAPL.csv')"
   ]
  },
  {
   "cell_type": "code",
   "execution_count": 16,
   "metadata": {},
   "outputs": [],
   "source": [
    "#remove the not required columns, and filtering only the 'Open' stock price\n",
    "\n",
    "apple_processed= apple_complete.iloc[:,1:2].values"
   ]
  },
  {
   "cell_type": "code",
   "execution_count": 20,
   "metadata": {},
   "outputs": [],
   "source": [
    "#Normalizing the data\n",
    "\n",
    "scaler= MinMaxScaler(feature_range= (0,1))\n",
    "apple_scaled= scaler.fit_transform(apple_processed)"
   ]
  },
  {
   "cell_type": "code",
   "execution_count": 28,
   "metadata": {},
   "outputs": [],
   "source": [
    "#Converting the data to a time based supervised format, i.e n+1 day prediction based on n prev days\n",
    "\n",
    "features_set=[]\n",
    "labels=[]\n",
    "\n",
    "for i in range(60,1259):\n",
    "    features_set.append(apple_scaled[i-60:i,0])\n",
    "    labels.append(apple_scaled[i,0])"
   ]
  },
  {
   "cell_type": "code",
   "execution_count": 33,
   "metadata": {},
   "outputs": [
    {
     "name": "stdout",
     "output_type": "stream",
     "text": [
      "(1199, 60)\n"
     ]
    }
   ],
   "source": [
    "#converting to numpy array\n",
    "\n",
    "features_set, labels= np.array(features_set), np.array(labels)\n"
   ]
  },
  {
   "cell_type": "code",
   "execution_count": 37,
   "metadata": {},
   "outputs": [
    {
     "name": "stdout",
     "output_type": "stream",
     "text": [
      "(1199, 60, 1)\n"
     ]
    }
   ],
   "source": [
    "#Converting to LSTM input shape\n",
    "\n",
    "features_set= np.reshape(features_set, (features_set.shape[0], features_set.shape[1], 1))\n",
    "print(features_set.shape)"
   ]
  },
  {
   "cell_type": "code",
   "execution_count": 48,
   "metadata": {},
   "outputs": [],
   "source": [
    "#Building the LSTM\n",
    "\n",
    "model= Sequential()\n",
    "model.add(LSTM(units=50, return_sequences= True, input_shape=(features_set.shape[1],1)))\n",
    "#return sequence=True to indicate more layers to be added to the model\n",
    "#input shape consists of number of time steps and the number of indicators\n",
    "\n",
    "model.add(Dropout(0,2))\n",
    "\n",
    "model.add(LSTM(units=50, return_sequences=True))\n",
    "model.add(Dropout(0.2))\n",
    "\n",
    "model.add(LSTM(units=50, return_sequences=True))\n",
    "model.add(Dropout(0.2))\n",
    "\n",
    "model.add(LSTM(units=50))\n",
    "model.add(Dropout(0.2))\n",
    "\n",
    "model.add(Dense(units=1))\n"
   ]
  },
  {
   "cell_type": "code",
   "execution_count": 50,
   "metadata": {},
   "outputs": [],
   "source": [
    "#Compiling the model\n",
    "\n",
    "model.compile(optimizer='adam', loss= 'mean_squared_error')"
   ]
  },
  {
   "cell_type": "code",
   "execution_count": 52,
   "metadata": {},
   "outputs": [
    {
     "name": "stdout",
     "output_type": "stream",
     "text": [
      "WARNING:tensorflow:From C:\\Users\\hites\\Anaconda3\\envs\\3.5.2\\lib\\site-packages\\tensorflow_core\\python\\ops\\math_grad.py:1424: where (from tensorflow.python.ops.array_ops) is deprecated and will be removed in a future version.\n",
      "Instructions for updating:\n",
      "Use tf.where in 2.0, which has the same broadcast rule as np.where\n",
      "WARNING:tensorflow:From C:\\Users\\hites\\Anaconda3\\envs\\3.5.2\\lib\\site-packages\\keras\\backend\\tensorflow_backend.py:986: The name tf.assign_add is deprecated. Please use tf.compat.v1.assign_add instead.\n",
      "\n",
      "WARNING:tensorflow:From C:\\Users\\hites\\Anaconda3\\envs\\3.5.2\\lib\\site-packages\\keras\\backend\\tensorflow_backend.py:973: The name tf.assign is deprecated. Please use tf.compat.v1.assign instead.\n",
      "\n",
      "WARNING:tensorflow:From C:\\Users\\hites\\Anaconda3\\envs\\3.5.2\\lib\\site-packages\\keras\\backend\\tensorflow_backend.py:2741: The name tf.Session is deprecated. Please use tf.compat.v1.Session instead.\n",
      "\n",
      "Epoch 1/100\n",
      "WARNING:tensorflow:From C:\\Users\\hites\\Anaconda3\\envs\\3.5.2\\lib\\site-packages\\keras\\backend\\tensorflow_backend.py:174: The name tf.get_default_session is deprecated. Please use tf.compat.v1.get_default_session instead.\n",
      "\n",
      "WARNING:tensorflow:From C:\\Users\\hites\\Anaconda3\\envs\\3.5.2\\lib\\site-packages\\keras\\backend\\tensorflow_backend.py:181: The name tf.ConfigProto is deprecated. Please use tf.compat.v1.ConfigProto instead.\n",
      "\n",
      "WARNING:tensorflow:From C:\\Users\\hites\\Anaconda3\\envs\\3.5.2\\lib\\site-packages\\keras\\backend\\tensorflow_backend.py:190: The name tf.global_variables is deprecated. Please use tf.compat.v1.global_variables instead.\n",
      "\n",
      "WARNING:tensorflow:From C:\\Users\\hites\\Anaconda3\\envs\\3.5.2\\lib\\site-packages\\keras\\backend\\tensorflow_backend.py:199: The name tf.is_variable_initialized is deprecated. Please use tf.compat.v1.is_variable_initialized instead.\n",
      "\n",
      "WARNING:tensorflow:From C:\\Users\\hites\\Anaconda3\\envs\\3.5.2\\lib\\site-packages\\keras\\backend\\tensorflow_backend.py:206: The name tf.variables_initializer is deprecated. Please use tf.compat.v1.variables_initializer instead.\n",
      "\n",
      "1199/1199 [==============================] - 16s 13ms/step - loss: 0.0289\n",
      "Epoch 2/100\n",
      "1199/1199 [==============================] - 9s 8ms/step - loss: 0.0049\n",
      "Epoch 3/100\n",
      "1199/1199 [==============================] - 9s 8ms/step - loss: 0.0045\n",
      "Epoch 4/100\n",
      "1199/1199 [==============================] - 9s 8ms/step - loss: 0.0036\n",
      "Epoch 5/100\n",
      "1199/1199 [==============================] - 10s 8ms/step - loss: 0.0038\n",
      "Epoch 6/100\n",
      "1199/1199 [==============================] - 10s 8ms/step - loss: 0.0031\n",
      "Epoch 7/100\n",
      "1199/1199 [==============================] - 10s 8ms/step - loss: 0.0030\n",
      "Epoch 8/100\n",
      "1199/1199 [==============================] - 10s 8ms/step - loss: 0.0030\n",
      "Epoch 9/100\n",
      "1199/1199 [==============================] - 10s 8ms/step - loss: 0.0031\n",
      "Epoch 10/100\n",
      "1199/1199 [==============================] - 10s 8ms/step - loss: 0.0026\n",
      "Epoch 11/100\n",
      "1199/1199 [==============================] - 10s 8ms/step - loss: 0.0024\n",
      "Epoch 12/100\n",
      "1199/1199 [==============================] - 10s 8ms/step - loss: 0.0027\n",
      "Epoch 13/100\n",
      "1199/1199 [==============================] - 10s 8ms/step - loss: 0.0025\n",
      "Epoch 14/100\n",
      "1199/1199 [==============================] - 10s 8ms/step - loss: 0.0030\n",
      "Epoch 15/100\n",
      "1199/1199 [==============================] - 10s 8ms/step - loss: 0.0025\n",
      "Epoch 16/100\n",
      "1199/1199 [==============================] - 10s 8ms/step - loss: 0.0022\n",
      "Epoch 17/100\n",
      "1199/1199 [==============================] - 10s 8ms/step - loss: 0.0021\n",
      "Epoch 18/100\n",
      "1199/1199 [==============================] - 10s 8ms/step - loss: 0.0022\n",
      "Epoch 19/100\n",
      "1199/1199 [==============================] - 10s 8ms/step - loss: 0.0020\n",
      "Epoch 20/100\n",
      "1199/1199 [==============================] - 10s 8ms/step - loss: 0.0021\n",
      "Epoch 21/100\n",
      "1199/1199 [==============================] - 10s 8ms/step - loss: 0.0024\n",
      "Epoch 22/100\n",
      "1199/1199 [==============================] - 10s 8ms/step - loss: 0.0019\n",
      "Epoch 23/100\n",
      "1199/1199 [==============================] - 10s 8ms/step - loss: 0.0022\n",
      "Epoch 24/100\n",
      "1199/1199 [==============================] - 10s 8ms/step - loss: 0.0021\n",
      "Epoch 25/100\n",
      "1199/1199 [==============================] - 10s 8ms/step - loss: 0.0021\n",
      "Epoch 26/100\n",
      "1199/1199 [==============================] - 10s 8ms/step - loss: 0.0021\n",
      "Epoch 27/100\n",
      "1199/1199 [==============================] - 10s 9ms/step - loss: 0.0018\n",
      "Epoch 28/100\n",
      "1199/1199 [==============================] - 10s 8ms/step - loss: 0.0018\n",
      "Epoch 29/100\n",
      "1199/1199 [==============================] - 10s 9ms/step - loss: 0.0016\n",
      "Epoch 30/100\n",
      "1199/1199 [==============================] - 11s 9ms/step - loss: 0.0019\n",
      "Epoch 31/100\n",
      "1199/1199 [==============================] - 10s 9ms/step - loss: 0.0018\n",
      "Epoch 32/100\n",
      "1199/1199 [==============================] - 10s 9ms/step - loss: 0.0018\n",
      "Epoch 33/100\n",
      "1199/1199 [==============================] - 11s 9ms/step - loss: 0.0015\n",
      "Epoch 34/100\n",
      "1199/1199 [==============================] - 11s 9ms/step - loss: 0.0018\n",
      "Epoch 35/100\n",
      "1199/1199 [==============================] - 11s 9ms/step - loss: 0.0016\n",
      "Epoch 36/100\n",
      "1199/1199 [==============================] - 11s 9ms/step - loss: 0.0015\n",
      "Epoch 37/100\n",
      "1199/1199 [==============================] - 11s 9ms/step - loss: 0.0015\n",
      "Epoch 38/100\n",
      "1199/1199 [==============================] - 10s 9ms/step - loss: 0.0020\n",
      "Epoch 39/100\n",
      "1199/1199 [==============================] - 10s 8ms/step - loss: 0.0014\n",
      "Epoch 40/100\n",
      "1199/1199 [==============================] - 10s 9ms/step - loss: 0.0014\n",
      "Epoch 41/100\n",
      "1199/1199 [==============================] - 11s 9ms/step - loss: 0.0014\n",
      "Epoch 42/100\n",
      "1199/1199 [==============================] - 11s 9ms/step - loss: 0.0016\n",
      "Epoch 43/100\n",
      "1199/1199 [==============================] - 10s 8ms/step - loss: 0.0014\n",
      "Epoch 44/100\n",
      "1199/1199 [==============================] - 10s 9ms/step - loss: 0.0015\n",
      "Epoch 45/100\n",
      "1199/1199 [==============================] - 10s 9ms/step - loss: 0.0013\n",
      "Epoch 46/100\n",
      "1199/1199 [==============================] - 10s 8ms/step - loss: 0.0014\n",
      "Epoch 47/100\n",
      "1199/1199 [==============================] - 10s 8ms/step - loss: 0.0015\n",
      "Epoch 48/100\n",
      "1199/1199 [==============================] - 10s 8ms/step - loss: 0.0015\n",
      "Epoch 49/100\n",
      "1199/1199 [==============================] - 10s 8ms/step - loss: 0.0013\n",
      "Epoch 50/100\n",
      "1199/1199 [==============================] - 10s 8ms/step - loss: 0.0016\n",
      "Epoch 51/100\n",
      "1199/1199 [==============================] - 10s 9ms/step - loss: 0.0016\n",
      "Epoch 52/100\n",
      "1199/1199 [==============================] - 11s 9ms/step - loss: 0.0014\n",
      "Epoch 53/100\n",
      "1199/1199 [==============================] - 11s 9ms/step - loss: 0.0014\n",
      "Epoch 54/100\n",
      "1199/1199 [==============================] - 11s 9ms/step - loss: 0.0014\n",
      "Epoch 55/100\n",
      "1199/1199 [==============================] - 11s 9ms/step - loss: 0.0015\n",
      "Epoch 56/100\n",
      "1199/1199 [==============================] - 11s 9ms/step - loss: 0.0014\n",
      "Epoch 57/100\n",
      "1199/1199 [==============================] - 11s 9ms/step - loss: 0.0012\n",
      "Epoch 58/100\n",
      "1199/1199 [==============================] - 11s 9ms/step - loss: 0.0013\n",
      "Epoch 59/100\n",
      "1199/1199 [==============================] - 11s 9ms/step - loss: 0.0016\n",
      "Epoch 60/100\n",
      "1199/1199 [==============================] - 11s 9ms/step - loss: 0.0014\n",
      "Epoch 61/100\n",
      "1199/1199 [==============================] - 11s 9ms/step - loss: 0.0013\n",
      "Epoch 62/100\n",
      "1199/1199 [==============================] - 11s 9ms/step - loss: 0.0013\n",
      "Epoch 63/100\n",
      "1199/1199 [==============================] - 12s 10ms/step - loss: 0.0012\n",
      "Epoch 64/100\n",
      "1199/1199 [==============================] - 11s 9ms/step - loss: 0.0013\n",
      "Epoch 65/100\n",
      "1199/1199 [==============================] - 11s 9ms/step - loss: 0.0013\n",
      "Epoch 66/100\n",
      "1199/1199 [==============================] - 11s 9ms/step - loss: 0.0012\n",
      "Epoch 67/100\n",
      "1199/1199 [==============================] - 11s 9ms/step - loss: 0.0011\n",
      "Epoch 68/100\n",
      "1199/1199 [==============================] - 11s 9ms/step - loss: 0.0012\n",
      "Epoch 69/100\n",
      "1199/1199 [==============================] - 11s 9ms/step - loss: 0.0011\n",
      "Epoch 70/100\n",
      "1199/1199 [==============================] - 11s 9ms/step - loss: 0.0011\n",
      "Epoch 71/100\n",
      "1199/1199 [==============================] - 11s 9ms/step - loss: 0.0011\n",
      "Epoch 72/100\n",
      "1199/1199 [==============================] - 11s 9ms/step - loss: 0.0010\n",
      "Epoch 73/100\n"
     ]
    },
    {
     "name": "stdout",
     "output_type": "stream",
     "text": [
      "1199/1199 [==============================] - 11s 9ms/step - loss: 0.0011\n",
      "Epoch 74/100\n",
      "1199/1199 [==============================] - 11s 9ms/step - loss: 0.0011\n",
      "Epoch 75/100\n",
      "1199/1199 [==============================] - 11s 9ms/step - loss: 0.0012\n",
      "Epoch 76/100\n",
      "1199/1199 [==============================] - 11s 10ms/step - loss: 0.0011\n",
      "Epoch 77/100\n",
      "1199/1199 [==============================] - 11s 9ms/step - loss: 0.0012\n",
      "Epoch 78/100\n",
      "1199/1199 [==============================] - 11s 9ms/step - loss: 9.2358e-04\n",
      "Epoch 79/100\n",
      "1199/1199 [==============================] - 11s 9ms/step - loss: 0.0010\n",
      "Epoch 80/100\n",
      "1199/1199 [==============================] - 11s 9ms/step - loss: 0.0010\n",
      "Epoch 81/100\n",
      "1199/1199 [==============================] - 10s 9ms/step - loss: 0.0011\n",
      "Epoch 82/100\n",
      "1199/1199 [==============================] - 11s 9ms/step - loss: 9.1722e-04\n",
      "Epoch 83/100\n",
      "1199/1199 [==============================] - 11s 9ms/step - loss: 0.0012\n",
      "Epoch 84/100\n",
      "1199/1199 [==============================] - 11s 9ms/step - loss: 9.2614e-04\n",
      "Epoch 85/100\n",
      "1199/1199 [==============================] - 11s 9ms/step - loss: 9.7091e-04\n",
      "Epoch 86/100\n",
      "1199/1199 [==============================] - 11s 9ms/step - loss: 9.8168e-04\n",
      "Epoch 87/100\n",
      "1199/1199 [==============================] - 11s 9ms/step - loss: 0.0010\n",
      "Epoch 88/100\n",
      "1199/1199 [==============================] - 11s 9ms/step - loss: 0.0011\n",
      "Epoch 89/100\n",
      "1199/1199 [==============================] - 11s 9ms/step - loss: 8.9955e-04\n",
      "Epoch 90/100\n",
      "1199/1199 [==============================] - 11s 10ms/step - loss: 0.0011\n",
      "Epoch 91/100\n",
      "1199/1199 [==============================] - 11s 10ms/step - loss: 0.0010\n",
      "Epoch 92/100\n",
      "1199/1199 [==============================] - 11s 9ms/step - loss: 9.2361e-04\n",
      "Epoch 93/100\n",
      "1199/1199 [==============================] - 11s 9ms/step - loss: 0.0010\n",
      "Epoch 94/100\n",
      "1199/1199 [==============================] - 11s 9ms/step - loss: 0.0012\n",
      "Epoch 95/100\n",
      "1199/1199 [==============================] - 11s 9ms/step - loss: 9.9329e-04\n",
      "Epoch 96/100\n",
      "1199/1199 [==============================] - 11s 9ms/step - loss: 0.0010\n",
      "Epoch 97/100\n",
      "1199/1199 [==============================] - 11s 9ms/step - loss: 9.0785e-04\n",
      "Epoch 98/100\n",
      "1199/1199 [==============================] - 11s 9ms/step - loss: 9.0498e-04\n",
      "Epoch 99/100\n",
      "1199/1199 [==============================] - 11s 9ms/step - loss: 9.3171e-04\n",
      "Epoch 100/100\n",
      "1199/1199 [==============================] - 11s 9ms/step - loss: 0.0011\n"
     ]
    },
    {
     "data": {
      "text/plain": [
       "<keras.callbacks.History at 0x28322157488>"
      ]
     },
     "execution_count": 52,
     "metadata": {},
     "output_type": "execute_result"
    }
   ],
   "source": [
    "#fit the model\n",
    "model.fit(features_set, labels, epochs=100, batch_size=32)"
   ]
  },
  {
   "cell_type": "code",
   "execution_count": 61,
   "metadata": {},
   "outputs": [],
   "source": [
    "#Testing the trained model\n",
    "apple_testing= pd.read_csv(r'C:\\Users\\hites\\OneDrive\\Desktop\\Datasets\\AAPL_testing.csv')\n",
    "apple_testing_processed=apple_testing.iloc[:,1:2].values"
   ]
  },
  {
   "cell_type": "code",
   "execution_count": 62,
   "metadata": {},
   "outputs": [
    {
     "data": {
      "text/plain": [
       "[<matplotlib.lines.Line2D at 0x28324da8288>]"
      ]
     },
     "execution_count": 62,
     "metadata": {},
     "output_type": "execute_result"
    },
    {
     "data": {
      "image/png": "[encoded data removed]",
      "text/plain": [
       "<Figure size 432x288 with 1 Axes>"
      ]
     },
     "metadata": {
      "needs_background": "light"
     },
     "output_type": "display_data"
    }
   ],
   "source": [
    "plt.plot(apple_testing_processed)"
   ]
  },
  {
   "cell_type": "code",
   "execution_count": 65,
   "metadata": {},
   "outputs": [],
   "source": [
    "apple=pd.concat((apple_complete['Open'], apple_testing['Open']), axis=0)"
   ]
  },
  {
   "cell_type": "code",
   "execution_count": 66,
   "metadata": {},
   "outputs": [],
   "source": [
    "test_inputs= apple[len(apple)-len(apple_testing)-60:].values"
   ]
  },
  {
   "cell_type": "code",
   "execution_count": 67,
   "metadata": {},
   "outputs": [],
   "source": [
    "test_inputs = test_inputs.reshape(-1,1)\n",
    "test_inputs = scaler.transform(test_inputs)"
   ]
  },
  {
   "cell_type": "code",
   "execution_count": 68,
   "metadata": {},
   "outputs": [],
   "source": [
    "test_features = []\n",
    "for i in range(60, 80):\n",
    "    test_features.append(test_inputs[i-60:i, 0])"
   ]
  },
  {
   "cell_type": "code",
   "execution_count": 69,
   "metadata": {},
   "outputs": [],
   "source": [
    "test_features = np.array(test_features)\n",
    "test_features = np.reshape(test_features, (test_features.shape[0], test_features.shape[1], 1))"
   ]
  },
  {
   "cell_type": "code",
   "execution_count": 70,
   "metadata": {},
   "outputs": [],
   "source": [
    "predictions = model.predict(test_features)"
   ]
  },
  {
   "cell_type": "code",
   "execution_count": 71,
   "metadata": {},
   "outputs": [],
   "source": [
    "predictions = scaler.inverse_transform(predictions)"
   ]
  },
  {
   "cell_type": "code",
   "execution_count": 72,
   "metadata": {},
   "outputs": [
    {
     "data": {
      "image/png": "[encoded data removed]",
      "text/plain": [
       "<Figure size 720x432 with 1 Axes>"
      ]
     },
     "metadata": {
      "needs_background": "light"
     },
     "output_type": "display_data"
    }
   ],
   "source": [
    "plt.figure(figsize=(10,6))\n",
    "plt.plot(apple_testing_processed, color='blue', label='Actual Apple Stock Price')\n",
    "plt.plot(predictions , color='red', label='Predicted Apple Stock Price')\n",
    "plt.title('Apple Stock Price Prediction')\n",
    "plt.xlabel('Date')\n",
    "plt.ylabel('Apple Stock Price')\n",
    "plt.legend()\n",
    "plt.show()"
   ]
  },
  {
   "cell_type": "code",
   "execution_count": null,
   "metadata": {},
   "outputs": [],
   "source": []
  }
 ],
 "metadata": {
  "kernelspec": {
   "display_name": "Python 3",
   "language": "python",
   "name": "python3"
  },
  "language_info": {
   "codemirror_mode": {
    "name": "ipython",
    "version": 3
   },
   "file_extension": ".py",
   "mimetype": "text/x-python",
   "name": "python",
   "nbconvert_exporter": "python",
   "pygments_lexer": "ipython3",
   "version": "3.7.7"
  }
 },
 "nbformat": 4,
 "nbformat_minor": 4
}
